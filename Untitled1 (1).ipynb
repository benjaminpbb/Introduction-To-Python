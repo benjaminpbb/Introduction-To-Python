{
  "nbformat": 4,
  "nbformat_minor": 0,
  "metadata": {
    "colab": {
      "name": "Untitled1.ipynb",
      "provenance": [],
      "collapsed_sections": []
    },
    "kernelspec": {
      "name": "python3",
      "display_name": "Python 3"
    },
    "language_info": {
      "name": "python"
    }
  },
  "cells": [
    {
      "cell_type": "code",
      "execution_count": null,
      "metadata": {
        "id": "jlyGccXP0Wza"
      },
      "outputs": [],
      "source": [
        "x=20"
      ]
    },
    {
      "cell_type": "code",
      "source": [
        "if x>10 :\n",
        "  print('x>10')"
      ],
      "metadata": {
        "colab": {
          "base_uri": "https://localhost:8080/"
        },
        "id": "LUDBZxXx0YrL",
        "outputId": "7e89f668-e6d7-4894-bbb1-3a827178767c"
      },
      "execution_count": null,
      "outputs": [
        {
          "output_type": "stream",
          "name": "stdout",
          "text": [
            "x>10\n"
          ]
        }
      ]
    },
    {
      "cell_type": "code",
      "source": [
        "x=20\n",
        "if x>10 :\n",
        "  print('x>10')\n",
        "if x<10 :\n",
        "  print('x<10')\n",
        "if x==10:\n",
        "  print('x=10')    "
      ],
      "metadata": {
        "colab": {
          "base_uri": "https://localhost:8080/"
        },
        "id": "6lNSbh1q1EGz",
        "outputId": "b70ec769-75fc-4221-a3ce-c92f2061a257"
      },
      "execution_count": null,
      "outputs": [
        {
          "output_type": "stream",
          "name": "stdout",
          "text": [
            "x>10\n"
          ]
        }
      ]
    },
    {
      "cell_type": "code",
      "source": [
        "x=int(input('ENTER A NUMBER'))\n",
        "if x>100:\n",
        "  print('PASS')\n",
        "if x<100:\n",
        "   print('FAILED')\n",
        "if x==100:\n",
        "     print('PASS')\n"
      ],
      "metadata": {
        "colab": {
          "base_uri": "https://localhost:8080/"
        },
        "id": "MDQtS1Yl3yXS",
        "outputId": "32930cd6-25c3-46dd-c038-7f765d7a6b1d"
      },
      "execution_count": null,
      "outputs": [
        {
          "output_type": "stream",
          "name": "stdout",
          "text": [
            "ENTER A NUMBER45\n",
            "FAILED\n"
          ]
        }
      ]
    },
    {
      "cell_type": "code",
      "source": [
        "x=int(input('ENTER SALARY'))\n",
        "if x>250000:\n",
        "  print(x*10/100)\n",
        "if x<250000:\n",
        "  print('NO TAX')  "
      ],
      "metadata": {
        "colab": {
          "base_uri": "https://localhost:8080/"
        },
        "id": "iX4hNcWa-KLp",
        "outputId": "76af5228-acfb-4915-feb8-3246b0f291a1"
      },
      "execution_count": null,
      "outputs": [
        {
          "output_type": "stream",
          "name": "stdout",
          "text": [
            "ENTER SALARY260000\n",
            "26000.0\n"
          ]
        }
      ]
    },
    {
      "cell_type": "code",
      "source": [
        ""
      ],
      "metadata": {
        "id": "mc6PMNbvC2Tj"
      },
      "execution_count": null,
      "outputs": []
    }
  ]
}